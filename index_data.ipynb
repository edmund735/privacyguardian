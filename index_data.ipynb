{
 "cells": [
  {
   "cell_type": "code",
   "execution_count": null,
   "metadata": {},
   "outputs": [],
   "source": [
    "from glob import glob\n",
    "cores = list(os.path.split(p)[1] for p in glob('data/OPP-115/sanitized_policies/*'))\n",
    "import json\n",
    "with open('data_index.json', 'w') as f:\n",
    "    json.dump({int(c.split('_')[0]): c for c in sorted(cores)}, f)\n"
   ]
  }
 ],
 "metadata": {
  "language_info": {
   "name": "python"
  },
  "orig_nbformat": 4
 },
 "nbformat": 4,
 "nbformat_minor": 2
}
