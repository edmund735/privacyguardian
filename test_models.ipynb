{
 "cells": [
  {
   "attachments": {},
   "cell_type": "markdown",
   "metadata": {},
   "source": []
  },
  {
   "cell_type": "code",
   "execution_count": 2,
   "metadata": {},
   "outputs": [],
   "source": [
    "import joblib"
   ]
  },
  {
   "cell_type": "code",
   "execution_count": 3,
   "metadata": {},
   "outputs": [],
   "source": [
    "usage_model = joblib.load('usage_model_class.joblib')\n",
    "data_type_model = joblib.load('data_type_model_class.joblib')"
   ]
  },
  {
   "cell_type": "code",
   "execution_count": 1,
   "metadata": {},
   "outputs": [],
   "source": [
    "from langchain.document_loaders import TextLoader\n",
    "from langchain.embeddings.openai import OpenAIEmbeddings\n",
    "from langchain.text_splitter import CharacterTextSplitter\n",
    "from langchain.vectorstores import FAISS\n",
    "\n",
    "from langchain.llms import OpenAI\n",
    "embeddings = OpenAIEmbeddings()\n",
    "llm = OpenAI(temperature=0)"
   ]
  },
  {
   "cell_type": "code",
   "execution_count": 4,
   "metadata": {},
   "outputs": [
    {
     "name": "stderr",
     "output_type": "stream",
     "text": [
      "Created a chunk of size 1788, which is longer than the specified 1000\n",
      "Created a chunk of size 3477, which is longer than the specified 1000\n",
      "Created a chunk of size 1217, which is longer than the specified 1000\n"
     ]
    },
    {
     "data": {
      "text/plain": [
       "<langchain.vectorstores.faiss.FAISS at 0x299b63370>"
      ]
     },
     "execution_count": 4,
     "metadata": {},
     "output_type": "execute_result"
    }
   ],
   "source": [
    "from privacyguardian_lib.doc_to_faiss import make_data_path, make_faiss_db       \n",
    "\n",
    "make_faiss_db('sample_terms/baseline copy.txt')"
   ]
  },
  {
   "cell_type": "code",
   "execution_count": 8,
   "metadata": {},
   "outputs": [],
   "source": [
    "import os\n",
    "input_file = 'sample_terms/baseline.txt'\n",
    "db1 = FAISS.load_local(os.path.join('db', f'{input_file}.faiss'), embeddings)\n",
    "input_file = 'sample_terms/baseline copy.txt'\n",
    "db3 = FAISS.load_local(os.path.join('db', f'{input_file}.faiss'), embeddings)\n",
    "input_file = 'sample_terms/malicious.txt'\n",
    "db2 = FAISS.load_local(os.path.join('db', f'{input_file}.faiss'), embeddings)"
   ]
  },
  {
   "cell_type": "code",
   "execution_count": 9,
   "metadata": {},
   "outputs": [
    {
     "data": {
      "text/plain": [
       "(array([ 0,  6,  3,  9, -1], dtype=int32),\n",
       " [' Monitor usage of Service',\n",
       "  ' Manage registration',\n",
       "  ' Perform contract',\n",
       "  ' Access functionalities',\n",
       "  ' Store on device.'])"
      ]
     },
     "execution_count": 9,
     "metadata": {},
     "output_type": "execute_result"
    }
   ],
   "source": [
    "usage_model.predict(db1)[:2]"
   ]
  },
  {
   "cell_type": "code",
   "execution_count": 10,
   "metadata": {},
   "outputs": [
    {
     "data": {
      "text/plain": [
       "(array([ 9,  9, -1,  9, -1,  4, -1,  8], dtype=int32),\n",
       " [' Collect personal information',\n",
       "  ' Retain personal data',\n",
       "  ' Protect against legal liability',\n",
       "  ' Secure personal data',\n",
       "  ' Collect usage data',\n",
       "  ' Share with other users',\n",
       "  ' Disclose with consent',\n",
       "  ' Collect device information.'])"
      ]
     },
     "execution_count": 10,
     "metadata": {},
     "output_type": "execute_result"
    }
   ],
   "source": [
    "usage_model.predict(db2)[:2]"
   ]
  },
  {
   "cell_type": "code",
   "execution_count": 11,
   "metadata": {},
   "outputs": [
    {
     "data": {
      "text/plain": [
       "(array([-1, 10,  6, 19, 19, 19, 16, 19, 19,  0,  4, 19, 19, 19, 19],\n",
       "       dtype=int32),\n",
       " [' Email address',\n",
       "  ' First name and last name',\n",
       "  ' Phone number',\n",
       "  ' Address',\n",
       "  ' State',\n",
       "  ' Province',\n",
       "  ' ZIP/Postal code',\n",
       "  ' City',\n",
       "  ' Usage Data',\n",
       "  \" Device's Internet Protocol address\",\n",
       "  ' Unique device identifiers',\n",
       "  ' Third-Party Social Media Service account',\n",
       "  ' Contacts list',\n",
       "  ' Pictures',\n",
       "  ' Camera and photo library.'])"
      ]
     },
     "execution_count": 11,
     "metadata": {},
     "output_type": "execute_result"
    }
   ],
   "source": [
    "data_type_model.predict(db1)[:2]"
   ]
  },
  {
   "cell_type": "code",
   "execution_count": 12,
   "metadata": {},
   "outputs": [
    {
     "data": {
      "text/plain": [
       "(array([-1, 10,  1,  1,  5,  6, -1,  6, 19, 19, 19, 16, 19, 19,  0, 19, 19,\n",
       "         4, 19, 19, -1], dtype=int32),\n",
       " [' Email address',\n",
       "  ' First name and last name',\n",
       "  ' Social security number',\n",
       "  ' Passport Number',\n",
       "  ' Driver License number',\n",
       "  ' Bank account number',\n",
       "  ' Credit card number',\n",
       "  ' Phone number',\n",
       "  ' Address',\n",
       "  ' State',\n",
       "  ' Province',\n",
       "  ' ZIP/Postal code',\n",
       "  ' City',\n",
       "  ' Usage Data',\n",
       "  \" Device's IP address\",\n",
       "  ' Browser type',\n",
       "  ' Pages visited',\n",
       "  ' Unique device identifiers',\n",
       "  ' Contacts list',\n",
       "  ' Pictures',\n",
       "  ' Camera info.'])"
      ]
     },
     "execution_count": 12,
     "metadata": {},
     "output_type": "execute_result"
    }
   ],
   "source": [
    "data_type_model.predict(db2)[:2]"
   ]
  },
  {
   "cell_type": "code",
   "execution_count": 9,
   "metadata": {},
   "outputs": [
    {
     "data": {
      "text/plain": [
       "' 3 months'"
      ]
     },
     "execution_count": 9,
     "metadata": {},
     "output_type": "execute_result"
    }
   ],
   "source": [
    "from privacyguardian_lib.data_type_model import query_data_type_collected\n",
    "from privacyguardian_lib.retention_model import query_retention\n",
    "query_retention(db3)"
   ]
  }
 ],
 "metadata": {
  "kernelspec": {
   "display_name": "base",
   "language": "python",
   "name": "python3"
  },
  "language_info": {
   "codemirror_mode": {
    "name": "ipython",
    "version": 3
   },
   "file_extension": ".py",
   "mimetype": "text/x-python",
   "name": "python",
   "nbconvert_exporter": "python",
   "pygments_lexer": "ipython3",
   "version": "3.10.9"
  },
  "orig_nbformat": 4
 },
 "nbformat": 4,
 "nbformat_minor": 2
}
