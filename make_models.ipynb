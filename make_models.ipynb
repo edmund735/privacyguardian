{
 "cells": [
  {
   "cell_type": "code",
   "execution_count": 1,
   "metadata": {},
   "outputs": [
    {
     "name": "stderr",
     "output_type": "stream",
     "text": [
      "/Users/yawerijaz/anaconda3/lib/python3.10/site-packages/tqdm/auto.py:21: TqdmWarning: IProgress not found. Please update jupyter and ipywidgets. See https://ipywidgets.readthedocs.io/en/stable/user_install.html\n",
      "  from .autonotebook import tqdm as notebook_tqdm\n"
     ]
    }
   ],
   "source": [
    "from privacyguardian_lib.usage_model import main\n",
    "# privacyguardian_lib.usage_model\n",
    "\n"
   ]
  },
  {
   "cell_type": "code",
   "execution_count": 11,
   "metadata": {},
   "outputs": [
    {
     "data": {
      "text/plain": [
       "['data_type_model_1.joblib']"
      ]
     },
     "execution_count": 11,
     "metadata": {},
     "output_type": "execute_result"
    }
   ],
   "source": [
    "import joblib\n",
    "joblib.dump(model1, 'data_type_model_1.joblib')"
   ]
  },
  {
   "cell_type": "code",
   "execution_count": 1,
   "metadata": {},
   "outputs": [
    {
     "name": "stderr",
     "output_type": "stream",
     "text": [
      "/Users/yawerijaz/anaconda3/lib/python3.10/site-packages/tqdm/auto.py:21: TqdmWarning: IProgress not found. Please update jupyter and ipywidgets. See https://ipywidgets.readthedocs.io/en/stable/user_install.html\n",
      "  from .autonotebook import tqdm as notebook_tqdm\n"
     ]
    }
   ],
   "source": [
    "from privacyguardian_lib.data_type_model import make_DataTypePredictor\n",
    "from privacyguardian_lib.usage_model import main as make_UsagePredictor\n",
    "from privacyguardian_lib.retention_model import main as make_RetentionPredictor"
   ]
  },
  {
   "cell_type": "code",
   "execution_count": 2,
   "metadata": {},
   "outputs": [
    {
     "name": "stderr",
     "output_type": "stream",
     "text": [
      "  0%|          | 0/115 [00:00<?, ?it/s]"
     ]
    },
    {
     "name": "stderr",
     "output_type": "stream",
     "text": [
      "100%|██████████| 115/115 [01:19<00:00,  1.45it/s]\n",
      "100%|██████████| 115/115 [00:23<00:00,  4.97it/s]\n",
      "100%|██████████| 115/115 [01:50<00:00,  1.04it/s]\n",
      "100%|██████████| 115/115 [00:31<00:00,  3.62it/s]\n",
      "100%|██████████| 115/115 [00:27<00:00,  4.23it/s]\n",
      "100%|██████████| 115/115 [00:15<00:00,  7.19it/s]\n"
     ]
    }
   ],
   "source": [
    "usage_model_class = make_UsagePredictor()\n",
    "data_type_model_class = make_DataTypePredictor()\n",
    "retention_model_class = make_RetentionPredictor()"
   ]
  },
  {
   "cell_type": "code",
   "execution_count": 3,
   "metadata": {},
   "outputs": [
    {
     "data": {
      "text/plain": [
       "['retention_model_class_v3.joblib']"
      ]
     },
     "execution_count": 3,
     "metadata": {},
     "output_type": "execute_result"
    }
   ],
   "source": [
    "import joblib\n",
    "joblib.dump(usage_model_class, 'models/usage_model_class_v3.joblib')\n",
    "joblib.dump(data_type_model_class, 'models/data_type_model_class_v3.joblib')\n",
    "joblib.dump(retention_model_class, 'models/retention_model_class_v3.joblib')"
   ]
  }
 ],
 "metadata": {
  "kernelspec": {
   "display_name": "base",
   "language": "python",
   "name": "python3"
  },
  "language_info": {
   "codemirror_mode": {
    "name": "ipython",
    "version": 3
   },
   "file_extension": ".py",
   "mimetype": "text/x-python",
   "name": "python",
   "nbconvert_exporter": "python",
   "pygments_lexer": "ipython3",
   "version": "3.10.9"
  },
  "orig_nbformat": 4
 },
 "nbformat": 4,
 "nbformat_minor": 2
}
