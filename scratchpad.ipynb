{
 "cells": [
  {
   "cell_type": "code",
   "execution_count": 3,
   "metadata": {},
   "outputs": [
    {
     "data": {
      "text/plain": [
       "True"
      ]
     },
     "execution_count": 3,
     "metadata": {},
     "output_type": "execute_result"
    }
   ],
   "source": [
    "from dotenv import load_dotenv\n",
    "load_dotenv()"
   ]
  },
  {
   "cell_type": "code",
   "execution_count": 4,
   "metadata": {},
   "outputs": [],
   "source": [
    "from langchain.llms import OpenAI\n",
    "from langchain.chat_models import ChatOpenAI\n",
    "from langchain import LLMChain\n",
    "llm = OpenAI(temperature=0)"
   ]
  },
  {
   "cell_type": "code",
   "execution_count": 5,
   "metadata": {},
   "outputs": [
    {
     "data": {
      "text/plain": [
       "\"\\n\\nHello world! It's nice to meet you.\""
      ]
     },
     "execution_count": 5,
     "metadata": {},
     "output_type": "execute_result"
    }
   ],
   "source": [
    "llm.predict(\"hello world\")"
   ]
  },
  {
   "cell_type": "code",
   "execution_count": 8,
   "metadata": {},
   "outputs": [],
   "source": [
    "from langchain import OpenAI, PromptTemplate, LLMChain\n",
    "from langchain.text_splitter import CharacterTextSplitter\n",
    "from langchain.chains.mapreduce import MapReduceChain\n",
    "from langchain.prompts import PromptTemplate\n",
    "\n",
    "llm = OpenAI(temperature=0)"
   ]
  },
  {
   "cell_type": "code",
   "execution_count": 29,
   "metadata": {},
   "outputs": [
    {
     "data": {
      "text/plain": [
       "(5, 1)"
      ]
     },
     "execution_count": 29,
     "metadata": {},
     "output_type": "execute_result"
    }
   ],
   "source": [
    "with open('sample_terms/baseline.txt') as f:\n",
    "    baseline = f.read()\n",
    "\n",
    "with open('sample_terms/malicious.txt') as f:\n",
    "    malicious = f.read()\n",
    "    \n",
    "\n",
    "text_splitter = CharacterTextSplitter()\n",
    "baseline_texts = text_splitter.split_text(baseline)\n",
    "malicious_texts = text_splitter.split_text(malicious)\n",
    "len(baseline_texts), len(malicious_texts)"
   ]
  },
  {
   "cell_type": "code",
   "execution_count": 31,
   "metadata": {},
   "outputs": [],
   "source": [
    "from langchain.docstore.document import Document\n",
    "baseline_docs = [Document(page_content=t) for t in baseline_texts]\n",
    "malicious_docs = [Document(page_content=t) for t in malicious_texts]"
   ]
  },
  {
   "cell_type": "code",
   "execution_count": 14,
   "metadata": {},
   "outputs": [
    {
     "data": {
      "text/plain": [
       "' This Privacy Policy outlines the collection, use, and disclosure of personal data when using the Service. It includes information such as email address, first and last name, phone number, address, usage data, and information from third-party social media services. The Company may use this data to provide and maintain the Service, contact You, provide You with news and offers, manage Your requests, and for other purposes. The Company may share Your personal information with Service Providers, Affiliates, business partners, other users, and with Your consent. The Company will retain Your Personal Data only for as long as is necessary and may transfer Your Personal Data to other locations. You have the right to delete or request that We assist in deleting the Personal Data that We have collected about You.'"
      ]
     },
     "execution_count": 14,
     "metadata": {},
     "output_type": "execute_result"
    }
   ],
   "source": [
    "from langchain.chains.summarize import load_summarize_chain\n",
    "chain = load_summarize_chain(llm, chain_type=\"stuff\")\n",
    "chain.run(docs)"
   ]
  },
  {
   "cell_type": "code",
   "execution_count": 45,
   "metadata": {},
   "outputs": [
    {
     "data": {
      "text/plain": [
       "'\\n\\nOutput:\\n{\\n    \"properties\": {\\n        \"data_collected\": {\\n            \"title\": \"Data Collected\",\\n            \"description\": \"list of personal data item collected from user\",\\n            \"type\": \"array\",\\n            \"items\": {\\n                \"type\": \"string\"\\n            }\\n        },\\n        \"permitted_usage\": {\\n            \"title\": \"Permitted Usage\",\\n            \"description\": \"summary of how the collected data are used\",\\n            \"type\": \"string\"\\n        },\\n        \"retention_policy\": {\\n            \"title\": \"Retention Policy\",\\n            \"description\": \"summary of how and for how long the data are retained\",\\n            \"type\": \"string\"\\n        },\\n        \"transfer_policy\": {\\n            \"title\": \"Transfer Policy\",\\n            \"description\": \"summary of how the data may be transferred to third parties or other jurisdictions\",\\n            \"type\": \"string\"\\n        }\\n    },\\n    \"required\": [\\n        \"data_collected\",\\n        \"permitted_usage\",\\n        \"retention_policy\",\\n        \"transfer_policy\"'"
      ]
     },
     "execution_count": 45,
     "metadata": {},
     "output_type": "execute_result"
    }
   ],
   "source": [
    "from pydantic import BaseModel, Field, validator\n",
    "class PrivacyPolicy(BaseModel):\n",
    "    data_collected: list[str] = Field(description=\"list of personal data item collected from user\")\n",
    "    permitted_usage: str = Field(description=\"summary of how the collected data are used\")\n",
    "    retention_policy: str = Field(description=\"summary of how and for how long the data are retained\")\n",
    "    transfer_policy: str = Field(description=\"summary of how the data may be transferred to third parties or other jurisdictions\")\n",
    "\n",
    "\n",
    "\n",
    "from langchain.output_parsers import PydanticOutputParser\n",
    "parser = PydanticOutputParser(pydantic_object=PrivacyPolicy)\n",
    "\n",
    "# def create_policy_summary(text):\n",
    "text = baseline\n",
    "policy_summary_prompt = PromptTemplate.from_template(\n",
    "    \"\"\"\n",
    "    You are to produce summarise terms and conditions of some online services.\n",
    "\n",
    "    {format_instructions}\n",
    "    \n",
    "    Text:\n",
    "    {text}\n",
    "    \"\"\",\n",
    ")\n",
    "chain = LLMChain(llm=llm, prompt=policy_summary_prompt)\n",
    "raw = chain.run(text=text, \n",
    "                    format_instructions=parser.get_format_instructions())\n",
    "    # return raw # parser.parse(raw)\n",
    "\n",
    "create_policy_summary(baseline)"
   ]
  },
  {
   "cell_type": "code",
   "execution_count": 50,
   "metadata": {},
   "outputs": [
    {
     "data": {
      "text/plain": [
       "'The output should be formatted as a JSON instance that conforms to the JSON schema below.\\n\\nAs an example, for the schema {\"properties\": {\"foo\": {\"title\": \"Foo\", \"description\": \"a list of strings\", \"type\": \"array\", \"items\": {\"type\": \"string\"}}}, \"required\": [\"foo\"]}}\\nthe object {\"foo\": [\"bar\", \"baz\"]} is a well-formatted instance of the schema. The object {\"properties\": {\"foo\": [\"bar\", \"baz\"]}} is not well-formatted.\\n\\nHere is the output schema:\\n```\\n{\"properties\": {\"data_collected\": {\"title\": \"Data Collected\", \"description\": \"list of personal data item collected from user\", \"type\": \"array\", \"items\": {\"type\": \"string\"}}, \"permitted_usage\": {\"title\": \"Permitted Usage\", \"description\": \"summary of how the collected data are used\", \"type\": \"string\"}, \"retention_policy\": {\"title\": \"Retention Policy\", \"description\": \"summary of how and for how long the data are retained\", \"type\": \"string\"}, \"transfer_policy\": {\"title\": \"Transfer Policy\", \"description\": \"summary of how the data may be transferred to third parties or other jurisdictions\", \"type\": \"string\"}}, \"required\": [\"data_collected\", \"permitted_usage\", \"retention_policy\", \"transfer_policy\"]}\\n```'"
      ]
     },
     "execution_count": 50,
     "metadata": {},
     "output_type": "execute_result"
    }
   ],
   "source": [
    "parser.get_format_instructions()"
   ]
  },
  {
   "cell_type": "code",
   "execution_count": 44,
   "metadata": {},
   "outputs": [
    {
     "name": "stdout",
     "output_type": "stream",
     "text": [
      "\n",
      "\n",
      "Output:\n",
      "{\n",
      "    \"properties\": {\n",
      "        \"data_collected\": {\n",
      "            \"title\": \"Data Collected\",\n",
      "            \"description\": \"list of personal data item collected from user\",\n",
      "            \"type\": \"array\",\n",
      "            \"items\": {\n",
      "                \"type\": \"string\"\n",
      "            }\n",
      "        },\n",
      "        \"permitted_usage\": {\n",
      "            \"title\": \"Permitted Usage\",\n",
      "            \"description\": \"summary of how the collected data are used\",\n",
      "            \"type\": \"string\"\n",
      "        },\n",
      "        \"retention_policy\": {\n",
      "            \"title\": \"Retention Policy\",\n",
      "            \"description\": \"summary of how and for how long the data are retained\",\n",
      "            \"type\": \"string\"\n",
      "        },\n",
      "        \"transfer_policy\": {\n",
      "            \"title\": \"Transfer Policy\",\n",
      "            \"description\": \"summary of how the data may be transferred to third parties or other jurisdictions\",\n",
      "            \"type\": \"string\"\n",
      "        }\n",
      "    },\n",
      "    \"required\": [\n",
      "        \"data_collected\",\n",
      "        \"permitted_usage\",\n",
      "        \"retention_policy\",\n",
      "        \"transfer_policy\"\n"
     ]
    }
   ],
   "source": [
    "print(x)"
   ]
  },
  {
   "cell_type": "code",
   "execution_count": 68,
   "metadata": {},
   "outputs": [],
   "source": [
    "prompt_template = \"\"\"\n",
    "- Analyse the terms and conditions given.\n",
    "- Return in JSON format with the following keys and values\n",
    "\n",
    "    - collect_what: a list of strings of what data is collected, use at most three words to summarise each item collected\n",
    "    - retention: how long the data is retained, e.g. 1 year, 3 years, as long as it takes; if not specified, say unspecified\n",
    "    - usage: a list of strings of usages, use at most three words to summarise each usage\n",
    "    - transfer: summary how data may be transfered to third parties\n",
    "    - other: summary of information not mentioned above\n",
    "\n",
    "Each of the summary should be concise and under 30 words.    \n",
    "\n",
    "Terms and conditions: {text}\n",
    "Concise summary in JSON:\"\"\"\n",
    "PROMPT = PromptTemplate(template=prompt_template, input_variables=[\"text\"])\n",
    "chain = load_summarize_chain(llm, chain_type=\"stuff\", prompt=PROMPT)\n",
    "baseline_out = chain.run(baseline_docs)\n",
    "chain = load_summarize_chain(llm, chain_type=\"stuff\", prompt=PROMPT)\n",
    "malicious_out = chain.run(malicious_docs)"
   ]
  },
  {
   "cell_type": "code",
   "execution_count": 69,
   "metadata": {},
   "outputs": [
    {
     "name": "stdout",
     "output_type": "stream",
     "text": [
      "\n",
      "\n",
      "{\n",
      "    \"collect_what\": [\"email address\", \"name\", \"phone number\", \"address\", \"device info\", \"contact list\", \"pictures\", \"social media info\"],\n",
      "    \"retention\": \"as long as necessary\",\n",
      "    \"usage\": [\"provide service\", \"manage account\", \"contact\", \"business transfers\", \"data analysis\"],\n",
      "    \"transfer\": \"may transfer to other countries with adequate controls in place\",\n",
      "    \"other\": \"may share with service providers, affiliates, business partners, other users, with consent\"\n",
      "}\n",
      "\n",
      "\n",
      "{\n",
      "    collect_what: [\"email\", \"name\", \"social security number\", \"passport number\", \"driver license number\", \"bank account number\", \"credit card number\", \"phone number\", \"address\", \"device info\", \"contacts list\", \"pictures\", \"GPS logs\", \"motion & audio sensor logs\", \"input & operation\", \"view history\", \"search strings\"],\n",
      "    retention: \"as long as necessary\",\n",
      "    usage: [\"provide & maintain service\", \"manage account\", \"performance of contract\", \"contact user\", \"provide news & offers\", \"manage requests\", \"business transfers\", \"other purposes\"],\n",
      "    transfer: \"may be transferred to 3rd party networks, devices, equipment for analysis purposes\",\n",
      "    other: \"We may share Your personal information with Service Providers, Affiliates, business partners, other users, and with Your consent.\"\n",
      "}\n"
     ]
    }
   ],
   "source": [
    "print(baseline_out)\n",
    "print(malicious_out)"
   ]
  },
  {
   "cell_type": "code",
   "execution_count": 55,
   "metadata": {},
   "outputs": [
    {
     "data": {
      "text/plain": [
       "'\\n\\n{\\n    \"collect_what\": [\"email address\", \"first name and last name\", \"phone number\", \"address, state, province, zip/postal code, city\", \"information from your device\\'s phone book (contacts list)\", \"pictures and other information from your device\\'s camera and photo library\"],\\n    \"retention\": \"The Company will retain Your Personal Data only for as long as is necessary for the purposes set out in this Privacy Policy. We will retain and use Your Personal Data to the extent necessary to comply with our legal obligations (for example, if we are required to retain your data to comply with applicable laws), resolve disputes, and enforce our legal agreements and policies.\",\\n    \"usage\": \"The Company may use Personal Data for the following purposes: to provide and maintain our Service, including to monitor the usage of our Service; to manage Your Account; for the performance of a contract; to contact You; to provide You with news, special offers and general information; to manage Your requests; for business transfers; and for other purposes.\",\\n    \"transfer\": \"Your information, including Personal Data, is processed at the Company\\'s operating offices and in any other places where the parties involved in the processing are located'"
      ]
     },
     "execution_count": 55,
     "metadata": {},
     "output_type": "execute_result"
    }
   ],
   "source": [
    "baseline_out"
   ]
  },
  {
   "cell_type": "code",
   "execution_count": 10,
   "metadata": {},
   "outputs": [
    {
     "data": {
      "text/plain": [
       "\"Les humains et les machines : une combinaison parfaite pour augmenter la productivité. Notre espèce n'aurait pas pu aller très loin sans nos chevaux de travail mécanisés. De la roue qui a révolutionné l'agriculture à la vis qui a maintenu ensemble des projets de construction de plus en plus complexes jusqu'aux chaînes de montage robotisées d'aujourd'hui, les machines ont rendu possible la vie telle que nous la connaissons. Et pourtant, malgré leur utilité apparemment infinie, les humains ont depuis longtemps craint les machines - plus précisément, la possibilité que les machines acquièrent un jour une intelligence humaine et agissent de leur propre chef.\""
      ]
     },
     "execution_count": 10,
     "metadata": {},
     "output_type": "execute_result"
    }
   ],
   "source": [
    "# generate material into foreign language\n",
    "from langchain.prompts.chat import (\n",
    "    ChatPromptTemplate,\n",
    "    SystemMessagePromptTemplate,\n",
    "    HumanMessagePromptTemplate,\n",
    ")\n",
    "\n",
    "chat = ChatOpenAI(temperature=0)\n",
    "\n",
    "def create_translation(text):\n",
    "    template = \"\"\"\n",
    "    You will translate {input_language} to {output_language}.\n",
    "    You will use simple words and grammatical structure in the output.\n",
    "    The output should be easy for beginners to understand\n",
    "    \"\"\"\n",
    "    system_message_prompt = SystemMessagePromptTemplate.from_template(template)\n",
    "    human_template = \"{text}\"\n",
    "    human_message_prompt = HumanMessagePromptTemplate.from_template(human_template)\n",
    "\n",
    "    chat_prompt = ChatPromptTemplate.from_messages([system_message_prompt, human_message_prompt])\n",
    "\n",
    "    chat_prompt.format_messages(input_language=\"English\", output_language=\"French\", text=\"I love programming.\")\n",
    "\n",
    "\n",
    "    chain = LLMChain(llm=chat, prompt=chat_prompt)\n",
    "    translated_reading = chain.run(input_language=\"English\", output_language=\"French\", text=reading)\n",
    "    return translated_reading\n"
   ]
  },
  {
   "cell_type": "code",
   "execution_count": 37,
   "metadata": {},
   "outputs": [],
   "source": [
    "from pydantic import BaseModel, Field, validator\n",
    "class QuestionAndAnswer(BaseModel):\n",
    "    question: str = Field(description=\"a question about the text\")\n",
    "    answer: str = Field(description=\"an answer to the question\")\n",
    "\n",
    "    @validator('question')\n",
    "    def question_ends_with_question_mark(cls, field):\n",
    "            if field[-1] != '?':\n",
    "                raise ValueError(\"Badly formed question!\")\n",
    "            return field\n",
    "\n",
    "class QuestionSet(BaseModel):\n",
    "    translated_text: str = Field(\"a translated version of the give text\")\n",
    "    questions: list[QuestionAndAnswer]\n",
    "\n",
    "from langchain.output_parsers import PydanticOutputParser\n",
    "parser = PydanticOutputParser(pydantic_object=QuestionSet)\n",
    "\n",
    "def create_question_set(text, input_language, output_language):\n",
    "    qna_prompt = SystemMessagePromptTemplate.from_template(\n",
    "        \"\"\"\n",
    "        You are to produce a few question to test the reader's understanding of a text.\n",
    "\n",
    "        Steps:\n",
    "        0. Translate the text from {input_language} into {output_language}\n",
    "        1. Analyse the Text\n",
    "        2. Summarise it\n",
    "        3. Produce 1 to 5 questions about the text\n",
    "        4. Produce an answer to each question\n",
    "\n",
    "        The questions and answers must be in {output_language}\n",
    "\n",
    "        {format_instructions}\n",
    "        \n",
    "        Text:\n",
    "        {text}\n",
    "        \"\"\",\n",
    "        input_variables=['text', 'input_language', 'output_language'],\n",
    "        partial_variables={'format_instructions': parser.get_format_instructions()}\n",
    "    )\n",
    "    chat_prompt = ChatPromptTemplate.from_messages([qna_prompt])\n",
    "    chain = LLMChain(llm=chat, prompt=chat_prompt)\n",
    "    qna_raw = chain.run(text=text, \n",
    "                        input_language=input_language,\n",
    "                        output_language=output_language,\n",
    "                        format_instructions=parser.get_format_instructions())\n",
    "    return parser.parse(qna_raw)\n",
    "\n",
    "\n",
    "qna = create_question_set(reading, 'english', 'french')"
   ]
  },
  {
   "cell_type": "code",
   "execution_count": 38,
   "metadata": {},
   "outputs": [
    {
     "data": {
      "text/plain": [
       "\"Les humains et les machines : un mariage parfait pour la productivité. Notre espèce n'aurait pas pu aller très loin sans nos chevaux de travail mécanisés. De la roue qui a révolutionné l'agriculture à la vis qui a maintenu ensemble des projets de construction de plus en plus complexes aux lignes d'assemblage robotisées d'aujourd'hui, les machines ont rendu possible la vie telle que nous la connaissons. Et pourtant, malgré leur utilité apparemment sans fin, les humains ont depuis longtemps craint les machines - plus précisément, la possibilité que les machines acquièrent un jour une intelligence humaine et se rebellent.\""
      ]
     },
     "execution_count": 38,
     "metadata": {},
     "output_type": "execute_result"
    }
   ],
   "source": [
    "qna.translated_text"
   ]
  },
  {
   "cell_type": "code",
   "execution_count": null,
   "metadata": {},
   "outputs": [],
   "source": []
  },
  {
   "cell_type": "code",
   "execution_count": 3,
   "metadata": {},
   "outputs": [
    {
     "data": {
      "text/plain": [
       "AIMessage(content=\"J'aime programmer.\", additional_kwargs={}, example=False)"
      ]
     },
     "execution_count": 3,
     "metadata": {},
     "output_type": "execute_result"
    }
   ],
   "source": [
    "from langchain.chat_models import ChatOpenAI\n",
    "from langchain.schema import (\n",
    "    AIMessage,\n",
    "    HumanMessage,\n",
    "    SystemMessage\n",
    ")\n",
    "\n",
    "chat = ChatOpenAI(temperature=0)\n",
    "chat.predict_messages([HumanMessage(content=\"Translate this sentence from English to French. I love programming.\")])\n",
    "# >> AIMessage(content=\"J'aime programmer.\", additional_kwargs={})"
   ]
  },
  {
   "cell_type": "code",
   "execution_count": 23,
   "metadata": {},
   "outputs": [
    {
     "data": {
      "text/plain": [
       "QuestionSet(questions=[QuestionAndAnswer(question='What was the first machine that revolutionized agriculture?', answer='The wheel'), QuestionAndAnswer(question='What are robots used for today?', answer='Robots are used for robot-enabled assembly lines.'), QuestionAndAnswer(question='What have humans feared about machines?', answer='Humans have feared that machines might someday acquire human intelligence and strike out on their own.')])"
      ]
     },
     "execution_count": 23,
     "metadata": {},
     "output_type": "execute_result"
    }
   ],
   "source": []
  },
  {
   "cell_type": "code",
   "execution_count": 4,
   "metadata": {},
   "outputs": [
    {
     "data": {
      "text/plain": [
       "[SystemMessage(content='You are a helpful assistant that translates English to French.', additional_kwargs={}),\n",
       " HumanMessage(content='I love programming.', additional_kwargs={}, example=False)]"
      ]
     },
     "execution_count": 4,
     "metadata": {},
     "output_type": "execute_result"
    }
   ],
   "source": [
    "from langchain.prompts.chat import (\n",
    "    ChatPromptTemplate,\n",
    "    SystemMessagePromptTemplate,\n",
    "    HumanMessagePromptTemplate,\n",
    ")\n",
    "\n",
    "\n",
    "chat = ChatOpenAI(temperature=0)\n",
    "template = \"You are a helpful assistant that translates {input_language} to {output_language}.\"\n",
    "system_message_prompt = SystemMessagePromptTemplate.from_template(template)\n",
    "human_template = \"{text}\"\n",
    "human_message_prompt = HumanMessagePromptTemplate.from_template(human_template)\n",
    "\n",
    "chat_prompt = ChatPromptTemplate.from_messages([system_message_prompt, human_message_prompt])\n",
    "\n",
    "chat_prompt.format_messages(input_language=\"English\", output_language=\"French\", text=\"I love programming.\")"
   ]
  },
  {
   "cell_type": "code",
   "execution_count": 5,
   "metadata": {},
   "outputs": [
    {
     "data": {
      "text/plain": [
       "\"J'adore la programmation.\""
      ]
     },
     "execution_count": 5,
     "metadata": {},
     "output_type": "execute_result"
    }
   ],
   "source": [
    "from langchain import LLMChain\n",
    "from langchain.chat_models import ChatOpenAI\n",
    "from langchain.prompts.chat import (\n",
    "    ChatPromptTemplate,\n",
    "    SystemMessagePromptTemplate,\n",
    "    HumanMessagePromptTemplate,\n",
    ")\n",
    "\n",
    "chat = ChatOpenAI(temperature=0)\n",
    "\n",
    "template = \"You are a helpful assistant that translates {input_language} to {output_language}.\"\n",
    "system_message_prompt = SystemMessagePromptTemplate.from_template(template)\n",
    "human_template = \"{text}\"\n",
    "human_message_prompt = HumanMessagePromptTemplate.from_template(human_template)\n",
    "chat_prompt = ChatPromptTemplate.from_messages([system_message_prompt, human_message_prompt])\n",
    "\n",
    "chain = LLMChain(llm=chat, prompt=chat_prompt)\n",
    "chain.run(input_language=\"English\", output_language=\"French\", text=\"I love programming.\")"
   ]
  },
  {
   "cell_type": "code",
   "execution_count": null,
   "metadata": {},
   "outputs": [],
   "source": []
  }
 ],
 "metadata": {
  "kernelspec": {
   "display_name": "base",
   "language": "python",
   "name": "python3"
  },
  "language_info": {
   "codemirror_mode": {
    "name": "ipython",
    "version": 3
   },
   "file_extension": ".py",
   "mimetype": "text/x-python",
   "name": "python",
   "nbconvert_exporter": "python",
   "pygments_lexer": "ipython3",
   "version": "3.10.9"
  },
  "orig_nbformat": 4
 },
 "nbformat": 4,
 "nbformat_minor": 2
}
